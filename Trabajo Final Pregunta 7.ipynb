{
 "cells": [
  {
   "cell_type": "markdown",
   "metadata": {},
   "source": [
    "## Genere una rutina que actualice un indicador y “modifique” los “datos operativos” y la bodega de datos de manera coherente para corresponderse con el indicador"
   ]
  },
  {
   "cell_type": "markdown",
   "metadata": {},
   "source": [
    "Los pasos a seguir son:\n",
    "\n",
    "1. Generar una función para el cambio del indicador\n",
    "\n",
    "2. Genera una función que calcule la diferencia entre los indicadores iniciales y los indicadores modificados\n",
    "\n",
    "3. definir una función que actualice la base de datos para que los indicadores calculados desde la base de datos sean iguales a los indicadores modificados"
   ]
  },
  {
   "cell_type": "code",
   "execution_count": 52,
   "metadata": {},
   "outputs": [],
   "source": [
    "import pymongo\n",
    "from pymongo import MongoClient\n",
    "client = MongoClient('localhost', 27017)\n",
    "db = client.taller_MDB"
   ]
  },
  {
   "cell_type": "code",
   "execution_count": 53,
   "metadata": {},
   "outputs": [
    {
     "data": {
      "text/plain": [
       "160111"
      ]
     },
     "execution_count": 53,
     "metadata": {},
     "output_type": "execute_result"
    }
   ],
   "source": [
    "db.bodega.count_documents({})"
   ]
  },
  {
   "cell_type": "markdown",
   "metadata": {},
   "source": [
    "### Paso 1"
   ]
  },
  {
   "cell_type": "code",
   "execution_count": 54,
   "metadata": {},
   "outputs": [],
   "source": [
    "items=['AngularJS', 'C', 'CPlusPlus', 'CSS', 'CSharp', 'HTML5', 'Java',\n",
    "       'JavaScript', 'Nodejs', 'ObjectiveC', 'PHP', 'Perl', 'Python',\n",
    "       'Ruby', 'SQL', 'SQL_Server', 'TypeScript', 'jQuery']\n",
    "values=['AngularJS', 'C', 'C++', 'CSS', 'C#', 'HTML5', 'Java',\n",
    "       'JavaScript', 'Node.js', 'Objective-C', 'PHP', 'Perl', 'Python',\n",
    "       'Ruby', 'SQL', 'SQL Server', 'TypeScript', 'jQuery']"
   ]
  },
  {
   "cell_type": "code",
   "execution_count": 55,
   "metadata": {},
   "outputs": [],
   "source": [
    "Indicadores_Iniciales = {}\n",
    "for i in range(len(items)):\n",
    "    Indicadores_Iniciales[items[i]]=db.bodega.count_documents({items[i]:values[i]})"
   ]
  },
  {
   "cell_type": "code",
   "execution_count": 56,
   "metadata": {},
   "outputs": [
    {
     "data": {
      "text/plain": [
       "{'AngularJS': 8842,\n",
       " 'C': 18561,\n",
       " 'CPlusPlus': 27694,\n",
       " 'CSS': 4364,\n",
       " 'CSharp': 43962,\n",
       " 'HTML5': 2187,\n",
       " 'Java': 52532,\n",
       " 'JavaScript': 75387,\n",
       " 'Nodejs': 12675,\n",
       " 'ObjectiveC': 9584,\n",
       " 'PHP': 36392,\n",
       " 'Perl': 4942,\n",
       " 'Python': 34431,\n",
       " 'Ruby': 11749,\n",
       " 'SQL': 65468,\n",
       " 'SQL_Server': 13436,\n",
       " 'TypeScript': 3565,\n",
       " 'jQuery': 4193}"
      ]
     },
     "execution_count": 56,
     "metadata": {},
     "output_type": "execute_result"
    }
   ],
   "source": [
    "Indicadores_Iniciales"
   ]
  },
  {
   "cell_type": "code",
   "execution_count": 57,
   "metadata": {},
   "outputs": [],
   "source": [
    "def cambio_indicador(lenguaje, veces):\n",
    "    \"\"\"Lenguaje:  corresponde al lenguaje de programación que se quiere incluir\n",
    "        Veces: el numero de programadores que se quieren incluir en los indicadores\n",
    "    \"\"\"\n",
    "    Indicadores_Modificados = Indicadores_Iniciales.copy()\n",
    "    for k,v in Indicadores_Iniciales.items():\n",
    "        if k==lenguaje:\n",
    "            for i in range(veces):\n",
    "                Indicadores_Modificados[k]=Indicadores_Modificados[k]+1\n",
    "    return Indicadores_Modificados         "
   ]
  },
  {
   "cell_type": "code",
   "execution_count": 58,
   "metadata": {},
   "outputs": [],
   "source": [
    "Indicadores_Modificados = cambio_indicador(\"C\", 2)"
   ]
  },
  {
   "cell_type": "code",
   "execution_count": 59,
   "metadata": {},
   "outputs": [
    {
     "data": {
      "text/plain": [
       "{'AngularJS': 8842,\n",
       " 'C': 18563,\n",
       " 'CPlusPlus': 27694,\n",
       " 'CSS': 4364,\n",
       " 'CSharp': 43962,\n",
       " 'HTML5': 2187,\n",
       " 'Java': 52532,\n",
       " 'JavaScript': 75387,\n",
       " 'Nodejs': 12675,\n",
       " 'ObjectiveC': 9584,\n",
       " 'PHP': 36392,\n",
       " 'Perl': 4942,\n",
       " 'Python': 34431,\n",
       " 'Ruby': 11749,\n",
       " 'SQL': 65468,\n",
       " 'SQL_Server': 13436,\n",
       " 'TypeScript': 3565,\n",
       " 'jQuery': 4193}"
      ]
     },
     "execution_count": 59,
     "metadata": {},
     "output_type": "execute_result"
    }
   ],
   "source": [
    "Indicadores_Modificados"
   ]
  },
  {
   "cell_type": "markdown",
   "metadata": {},
   "source": [
    "### Paso 2 - evaluar diferencias"
   ]
  },
  {
   "cell_type": "code",
   "execution_count": 60,
   "metadata": {},
   "outputs": [],
   "source": [
    "def diferencias(inicial,modificado):\n",
    "    dif = {}\n",
    "    for k,v in inicial.items():\n",
    "        dif[k] = modificado[k]-inicial[k]\n",
    "    return dif"
   ]
  },
  {
   "cell_type": "code",
   "execution_count": 61,
   "metadata": {},
   "outputs": [],
   "source": [
    "diferencias = diferencias(Indicadores_Iniciales,Indicadores_Modificados)"
   ]
  },
  {
   "cell_type": "code",
   "execution_count": 62,
   "metadata": {},
   "outputs": [
    {
     "data": {
      "text/plain": [
       "{'AngularJS': 0,\n",
       " 'C': 2,\n",
       " 'CPlusPlus': 0,\n",
       " 'CSS': 0,\n",
       " 'CSharp': 0,\n",
       " 'HTML5': 0,\n",
       " 'Java': 0,\n",
       " 'JavaScript': 0,\n",
       " 'Nodejs': 0,\n",
       " 'ObjectiveC': 0,\n",
       " 'PHP': 0,\n",
       " 'Perl': 0,\n",
       " 'Python': 0,\n",
       " 'Ruby': 0,\n",
       " 'SQL': 0,\n",
       " 'SQL_Server': 0,\n",
       " 'TypeScript': 0,\n",
       " 'jQuery': 0}"
      ]
     },
     "execution_count": 62,
     "metadata": {},
     "output_type": "execute_result"
    }
   ],
   "source": [
    "diferencias"
   ]
  },
  {
   "cell_type": "markdown",
   "metadata": {},
   "source": [
    "### Paso 3 - función que genera registros para que la base de datos genere indicadores modificados"
   ]
  },
  {
   "cell_type": "code",
   "execution_count": 63,
   "metadata": {},
   "outputs": [],
   "source": [
    "dict_ini = dict(zip(items,values))"
   ]
  },
  {
   "cell_type": "code",
   "execution_count": 64,
   "metadata": {},
   "outputs": [
    {
     "data": {
      "text/plain": [
       "{'AngularJS': 'AngularJS',\n",
       " 'C': 'C',\n",
       " 'CPlusPlus': 'C++',\n",
       " 'CSS': 'CSS',\n",
       " 'CSharp': 'C#',\n",
       " 'HTML5': 'HTML5',\n",
       " 'Java': 'Java',\n",
       " 'JavaScript': 'JavaScript',\n",
       " 'Nodejs': 'Node.js',\n",
       " 'ObjectiveC': 'Objective-C',\n",
       " 'PHP': 'PHP',\n",
       " 'Perl': 'Perl',\n",
       " 'Python': 'Python',\n",
       " 'Ruby': 'Ruby',\n",
       " 'SQL': 'SQL',\n",
       " 'SQL_Server': 'SQL Server',\n",
       " 'TypeScript': 'TypeScript',\n",
       " 'jQuery': 'jQuery'}"
      ]
     },
     "execution_count": 64,
     "metadata": {},
     "output_type": "execute_result"
    }
   ],
   "source": [
    "dict_ini"
   ]
  },
  {
   "cell_type": "code",
   "execution_count": 66,
   "metadata": {},
   "outputs": [],
   "source": [
    "def actualizar_db(diferencias, dict_ini):\n",
    "    for k,v in diferencias.items():\n",
    "        if v==0:\n",
    "            pass\n",
    "        else:\n",
    "            for i in range(v):\n",
    "                n=v\n",
    "                name = \"Nuevo\"+str(k)+str(i)\n",
    "                db.bodega.insert_one({'_id': name, k:dict_ini[k]})\n",
    "    return print(\"se han insertados {} registros a la base de datos\".format(n))\n",
    "                \n",
    "                "
   ]
  },
  {
   "cell_type": "code",
   "execution_count": 67,
   "metadata": {},
   "outputs": [
    {
     "name": "stdout",
     "output_type": "stream",
     "text": [
      "se han insertados 2 registros a la base de datos\n"
     ]
    }
   ],
   "source": [
    "actualizar_db(diferencias, dict_ini)"
   ]
  },
  {
   "cell_type": "code",
   "execution_count": 68,
   "metadata": {},
   "outputs": [],
   "source": [
    "Indicadores_Iniciales = {}\n",
    "for i in range(len(items)):\n",
    "    Indicadores_Iniciales[items[i]]=db.bodega.count_documents({items[i]:values[i]})"
   ]
  },
  {
   "cell_type": "code",
   "execution_count": 69,
   "metadata": {},
   "outputs": [
    {
     "data": {
      "text/plain": [
       "{'AngularJS': 8842,\n",
       " 'C': 18563,\n",
       " 'CPlusPlus': 27694,\n",
       " 'CSS': 4364,\n",
       " 'CSharp': 43962,\n",
       " 'HTML5': 2187,\n",
       " 'Java': 52532,\n",
       " 'JavaScript': 75387,\n",
       " 'Nodejs': 12675,\n",
       " 'ObjectiveC': 9584,\n",
       " 'PHP': 36392,\n",
       " 'Perl': 4942,\n",
       " 'Python': 34431,\n",
       " 'Ruby': 11749,\n",
       " 'SQL': 65468,\n",
       " 'SQL_Server': 13436,\n",
       " 'TypeScript': 3565,\n",
       " 'jQuery': 4193}"
      ]
     },
     "execution_count": 69,
     "metadata": {},
     "output_type": "execute_result"
    }
   ],
   "source": [
    "Indicadores_Iniciales"
   ]
  },
  {
   "cell_type": "markdown",
   "metadata": {},
   "source": [
    "Se observa que la base de datos ya genera los inidicadores iguales a los indicadores modificados"
   ]
  },
  {
   "cell_type": "code",
   "execution_count": 71,
   "metadata": {},
   "outputs": [],
   "source": [
    "#diferencias1 = diferencias(Indicadores_Iniciales,Indicadores_Modificados)"
   ]
  },
  {
   "cell_type": "code",
   "execution_count": null,
   "metadata": {},
   "outputs": [],
   "source": []
  },
  {
   "cell_type": "markdown",
   "metadata": {},
   "source": [
    "A continuación se ven los nuevos registro generados"
   ]
  },
  {
   "cell_type": "code",
   "execution_count": 72,
   "metadata": {},
   "outputs": [],
   "source": [
    "import pprint"
   ]
  },
  {
   "cell_type": "code",
   "execution_count": 73,
   "metadata": {},
   "outputs": [
    {
     "name": "stdout",
     "output_type": "stream",
     "text": [
      "{'C': 'C', '_id': 'NuevoC1'}\n"
     ]
    }
   ],
   "source": [
    "pprint.pprint(db.bodega.find_one({\"_id\":\"NuevoC1\"}))"
   ]
  },
  {
   "cell_type": "code",
   "execution_count": 74,
   "metadata": {},
   "outputs": [
    {
     "name": "stdout",
     "output_type": "stream",
     "text": [
      "{'_id': 'NuevoC0', 'C': 'C'}\n",
      "{'_id': 'NuevoC1', 'C': 'C'}\n"
     ]
    }
   ],
   "source": [
    "for doc in db.bodega.find({\"_id\":{\"$regex\":\"^Nuevo\"}}):\n",
    "    print(doc)"
   ]
  },
  {
   "cell_type": "markdown",
   "metadata": {},
   "source": [
    "Se borran los nuevos registros para reestablecer la base de datos original"
   ]
  },
  {
   "cell_type": "code",
   "execution_count": 75,
   "metadata": {},
   "outputs": [
    {
     "data": {
      "text/plain": [
       "<pymongo.results.DeleteResult at 0x213a72a4fc8>"
      ]
     },
     "execution_count": 75,
     "metadata": {},
     "output_type": "execute_result"
    }
   ],
   "source": [
    "db.bodega.delete_one({\"_id\":\"NuevoC0\"})\n",
    "db.bodega.delete_one({\"_id\":\"NuevoC1\"})"
   ]
  },
  {
   "cell_type": "code",
   "execution_count": 76,
   "metadata": {},
   "outputs": [],
   "source": [
    "Indicadores_Iniciales = {}\n",
    "for i in range(len(items)):\n",
    "    Indicadores_Iniciales[items[i]]=db.bodega.count_documents({items[i]:values[i]})"
   ]
  },
  {
   "cell_type": "code",
   "execution_count": 77,
   "metadata": {},
   "outputs": [
    {
     "data": {
      "text/plain": [
       "{'AngularJS': 8842,\n",
       " 'C': 18561,\n",
       " 'CPlusPlus': 27694,\n",
       " 'CSS': 4364,\n",
       " 'CSharp': 43962,\n",
       " 'HTML5': 2187,\n",
       " 'Java': 52532,\n",
       " 'JavaScript': 75387,\n",
       " 'Nodejs': 12675,\n",
       " 'ObjectiveC': 9584,\n",
       " 'PHP': 36392,\n",
       " 'Perl': 4942,\n",
       " 'Python': 34431,\n",
       " 'Ruby': 11749,\n",
       " 'SQL': 65468,\n",
       " 'SQL_Server': 13436,\n",
       " 'TypeScript': 3565,\n",
       " 'jQuery': 4193}"
      ]
     },
     "execution_count": 77,
     "metadata": {},
     "output_type": "execute_result"
    }
   ],
   "source": [
    "Indicadores_Iniciales"
   ]
  },
  {
   "cell_type": "code",
   "execution_count": null,
   "metadata": {},
   "outputs": [],
   "source": [
    "client.close()"
   ]
  },
  {
   "cell_type": "code",
   "execution_count": null,
   "metadata": {},
   "outputs": [],
   "source": []
  }
 ],
 "metadata": {
  "kernelspec": {
   "display_name": "Python 3",
   "language": "python",
   "name": "python3"
  },
  "language_info": {
   "codemirror_mode": {
    "name": "ipython",
    "version": 3
   },
   "file_extension": ".py",
   "mimetype": "text/x-python",
   "name": "python",
   "nbconvert_exporter": "python",
   "pygments_lexer": "ipython3",
   "version": "3.7.3"
  }
 },
 "nbformat": 4,
 "nbformat_minor": 2
}
