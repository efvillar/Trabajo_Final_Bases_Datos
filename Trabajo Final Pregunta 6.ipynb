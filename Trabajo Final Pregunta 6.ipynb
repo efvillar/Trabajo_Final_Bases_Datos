{
 "cells": [
  {
   "cell_type": "markdown",
   "metadata": {},
   "source": [
    "## 6. Genere una rutina que permita ingresar un registro en cualquiera de las encuestas y que actualice todos los indicadores hacia delante."
   ]
  },
  {
   "cell_type": "code",
   "execution_count": 3,
   "metadata": {},
   "outputs": [],
   "source": [
    "#!pip install pymongo"
   ]
  },
  {
   "cell_type": "code",
   "execution_count": 5,
   "metadata": {},
   "outputs": [],
   "source": [
    "import pymongo"
   ]
  },
  {
   "cell_type": "code",
   "execution_count": 6,
   "metadata": {},
   "outputs": [],
   "source": [
    "from pymongo import MongoClient"
   ]
  },
  {
   "cell_type": "code",
   "execution_count": 7,
   "metadata": {},
   "outputs": [],
   "source": [
    "client = MongoClient()"
   ]
  },
  {
   "cell_type": "code",
   "execution_count": 8,
   "metadata": {},
   "outputs": [],
   "source": [
    "client = MongoClient('localhost', 27017)"
   ]
  },
  {
   "cell_type": "code",
   "execution_count": 10,
   "metadata": {},
   "outputs": [
    {
     "name": "stdout",
     "output_type": "stream",
     "text": [
      "{'name': 'admin', 'sizeOnDisk': 32768.0, 'empty': False}\n",
      "{'name': 'config', 'sizeOnDisk': 61440.0, 'empty': False}\n",
      "{'name': 'local', 'sizeOnDisk': 65536.0, 'empty': False}\n",
      "{'name': 'pregunta3', 'sizeOnDisk': 430080.0, 'empty': False}\n",
      "{'name': 'taller_MDB', 'sizeOnDisk': 10678272.0, 'empty': False}\n"
     ]
    }
   ],
   "source": [
    "for db in client.list_databases():\n",
    "    print (db)"
   ]
  },
  {
   "cell_type": "code",
   "execution_count": 12,
   "metadata": {},
   "outputs": [],
   "source": [
    "db = client.taller_MDB"
   ]
  },
  {
   "cell_type": "code",
   "execution_count": 15,
   "metadata": {},
   "outputs": [
    {
     "data": {
      "text/plain": [
       "['bodega']"
      ]
     },
     "execution_count": 15,
     "metadata": {},
     "output_type": "execute_result"
    }
   ],
   "source": [
    "db.list_collection_names()"
   ]
  },
  {
   "cell_type": "code",
   "execution_count": 34,
   "metadata": {},
   "outputs": [],
   "source": [
    "import pprint"
   ]
  },
  {
   "cell_type": "code",
   "execution_count": 35,
   "metadata": {},
   "outputs": [
    {
     "name": "stdout",
     "output_type": "stream",
     "text": [
      "{'AngularJS': None,\n",
      " 'C': None,\n",
      " 'CPlusPlus': None,\n",
      " 'CSS': None,\n",
      " 'CSharp': None,\n",
      " 'HTML5': None,\n",
      " 'Id_Age': '5',\n",
      " 'Id_Country': '152',\n",
      " 'Id_Experience': None,\n",
      " 'Id_Gender': '2',\n",
      " 'Id_Salary': None,\n",
      " 'Java': None,\n",
      " 'JavaScript': None,\n",
      " 'Nodejs': None,\n",
      " 'ObjectiveC': None,\n",
      " 'PHP': None,\n",
      " 'Perl': None,\n",
      " 'Python': None,\n",
      " 'Ruby': None,\n",
      " 'SQL': None,\n",
      " 'SQL_Server': None,\n",
      " 'TypeScript': None,\n",
      " 'Year': '2016',\n",
      " '_id': ObjectId('5d084844ea33b6141a949909'),\n",
      " 'jQuery': None}\n"
     ]
    }
   ],
   "source": [
    "pprint.pprint(db.bodega.find_one())"
   ]
  },
  {
   "cell_type": "code",
   "execution_count": 36,
   "metadata": {},
   "outputs": [
    {
     "data": {
      "text/plain": [
       "160111"
      ]
     },
     "execution_count": 36,
     "metadata": {},
     "output_type": "execute_result"
    }
   ],
   "source": [
    "db.bodega.count_documents({})"
   ]
  },
  {
   "cell_type": "code",
   "execution_count": 37,
   "metadata": {},
   "outputs": [
    {
     "data": {
      "text/plain": [
       "18561"
      ]
     },
     "execution_count": 37,
     "metadata": {},
     "output_type": "execute_result"
    }
   ],
   "source": [
    "db.bodega.count_documents({\"C\":\"C\"})"
   ]
  },
  {
   "cell_type": "code",
   "execution_count": 59,
   "metadata": {},
   "outputs": [],
   "source": [
    "items=['AngularJS', 'C', 'CPlusPlus', 'CSS', 'CSharp', 'HTML5', 'Java',\n",
    "       'JavaScript', 'Nodejs', 'ObjectiveC', 'PHP', 'Perl', 'Python',\n",
    "       'Ruby', 'SQL', 'SQL_Server', 'TypeScript', 'jQuery']\n",
    "values=['AngularJS', 'C', 'C++', 'CSS', 'C#', 'HTML5', 'Java',\n",
    "       'JavaScript', 'Nodejs', 'Objective-C', 'PHP', 'Perl', 'Python',\n",
    "       'Ruby', 'SQL', 'SQL_Server', 'TypeScript', 'jQuery']"
   ]
  },
  {
   "cell_type": "code",
   "execution_count": 60,
   "metadata": {},
   "outputs": [],
   "source": [
    "conteo = {}\n",
    "for i in range(len(items)):\n",
    "    conteo[items[i]]=db.bodega.count_documents({items[i]:values[i]})"
   ]
  },
  {
   "cell_type": "code",
   "execution_count": 61,
   "metadata": {},
   "outputs": [
    {
     "data": {
      "text/plain": [
       "{'AngularJS': 8842,\n",
       " 'C': 18561,\n",
       " 'CPlusPlus': 27694,\n",
       " 'CSS': 4364,\n",
       " 'CSharp': 43962,\n",
       " 'HTML5': 2187,\n",
       " 'Java': 52532,\n",
       " 'JavaScript': 75387,\n",
       " 'Nodejs': 0,\n",
       " 'ObjectiveC': 9584,\n",
       " 'PHP': 36392,\n",
       " 'Perl': 4942,\n",
       " 'Python': 34431,\n",
       " 'Ruby': 11749,\n",
       " 'SQL': 65468,\n",
       " 'SQL_Server': 0,\n",
       " 'TypeScript': 3565,\n",
       " 'jQuery': 4193}"
      ]
     },
     "execution_count": 61,
     "metadata": {},
     "output_type": "execute_result"
    }
   ],
   "source": [
    "conteo"
   ]
  },
  {
   "cell_type": "markdown",
   "metadata": {},
   "source": [
    "Se hizo el conteo de los usuarios por lenguaje de programación (no se uso Map Reduce), para la base de datos original.  AHora se actualizaran registos y se ejecutará de nuevo el script para actualziar los indicadores de forma automática"
   ]
  },
  {
   "cell_type": "markdown",
   "metadata": {},
   "source": [
    "## Se agrega un documento a la colección"
   ]
  },
  {
   "cell_type": "code",
   "execution_count": 53,
   "metadata": {},
   "outputs": [],
   "source": [
    "db.bodega.insert_one({'_id': 'Nuevo','C':'C','Python':'Python'})"
   ]
  },
  {
   "cell_type": "markdown",
   "metadata": {},
   "source": [
    "## Se recalculan los indicadores"
   ]
  },
  {
   "cell_type": "code",
   "execution_count": 54,
   "metadata": {},
   "outputs": [],
   "source": [
    "conteo = {}\n",
    "for i in range(len(items)):\n",
    "    conteo[items[i]]=db.bodega.count_documents({items[i]:values[i]})"
   ]
  },
  {
   "cell_type": "code",
   "execution_count": 55,
   "metadata": {},
   "outputs": [
    {
     "data": {
      "text/plain": [
       "{'AngularJS': 8842,\n",
       " 'C': 18562,\n",
       " 'CPlusPlus': 27694,\n",
       " 'CSS': 4364,\n",
       " 'CSharp': 0,\n",
       " 'HTML5': 2187,\n",
       " 'Java': 52532,\n",
       " 'JavaScript': 75387,\n",
       " 'Nodejs': 0,\n",
       " 'ObjectiveC': 9584,\n",
       " 'PHP': 36392,\n",
       " 'Perl': 4942,\n",
       " 'Python': 34432,\n",
       " 'Ruby': 11749,\n",
       " 'SQL': 65468,\n",
       " 'SQL_Server': 0,\n",
       " 'TypeScript': 3565,\n",
       " 'jQuery': 4193}"
      ]
     },
     "execution_count": 55,
     "metadata": {},
     "output_type": "execute_result"
    }
   ],
   "source": [
    "conteo"
   ]
  },
  {
   "cell_type": "markdown",
   "metadata": {},
   "source": [
    "Se observa como cambiaron los valores de programadores de C y Python con el nuevo documento.  Se actualizó la base de datos"
   ]
  },
  {
   "cell_type": "markdown",
   "metadata": {},
   "source": [
    "para reestablecer la base de datos original se procede a borrar el documento"
   ]
  },
  {
   "cell_type": "code",
   "execution_count": 57,
   "metadata": {},
   "outputs": [
    {
     "data": {
      "text/plain": [
       "<pymongo.results.DeleteResult at 0x18fa6349908>"
      ]
     },
     "execution_count": 57,
     "metadata": {},
     "output_type": "execute_result"
    }
   ],
   "source": [
    "db.bodega.delete_one({'_id':'Nuevo'})"
   ]
  },
  {
   "cell_type": "code",
   "execution_count": 58,
   "metadata": {},
   "outputs": [
    {
     "data": {
      "text/plain": [
       "{'AngularJS': 8842,\n",
       " 'C': 18561,\n",
       " 'CPlusPlus': 27694,\n",
       " 'CSS': 4364,\n",
       " 'CSharp': 0,\n",
       " 'HTML5': 2187,\n",
       " 'Java': 52532,\n",
       " 'JavaScript': 75387,\n",
       " 'Nodejs': 0,\n",
       " 'ObjectiveC': 9584,\n",
       " 'PHP': 36392,\n",
       " 'Perl': 4942,\n",
       " 'Python': 34431,\n",
       " 'Ruby': 11749,\n",
       " 'SQL': 65468,\n",
       " 'SQL_Server': 0,\n",
       " 'TypeScript': 3565,\n",
       " 'jQuery': 4193}"
      ]
     },
     "execution_count": 58,
     "metadata": {},
     "output_type": "execute_result"
    }
   ],
   "source": [
    "conteo = {}\n",
    "for i in range(len(items)):\n",
    "    conteo[items[i]]=db.bodega.count_documents({items[i]:values[i]})\n",
    "conteo"
   ]
  },
  {
   "cell_type": "code",
   "execution_count": null,
   "metadata": {},
   "outputs": [],
   "source": []
  }
 ],
 "metadata": {
  "kernelspec": {
   "display_name": "Python 3",
   "language": "python",
   "name": "python3"
  },
  "language_info": {
   "codemirror_mode": {
    "name": "ipython",
    "version": 3
   },
   "file_extension": ".py",
   "mimetype": "text/x-python",
   "name": "python",
   "nbconvert_exporter": "python",
   "pygments_lexer": "ipython3",
   "version": "3.7.3"
  }
 },
 "nbformat": 4,
 "nbformat_minor": 2
}
