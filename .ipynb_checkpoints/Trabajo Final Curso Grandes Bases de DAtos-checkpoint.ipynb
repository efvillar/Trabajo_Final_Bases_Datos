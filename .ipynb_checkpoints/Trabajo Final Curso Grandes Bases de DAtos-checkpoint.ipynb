{
 "cells": [
  {
   "cell_type": "markdown",
   "metadata": {},
   "source": [
    "# Trabajo Final Sistemas de Bases de Datos Masivos\n",
    "## Integrantes\n",
    "### - Edwin Fernando Villarraga Ossa\n",
    "### - Jorge Eliecer Montoya Gallo\n",
    "### - Juan David Arango Buitrago"
   ]
  },
  {
   "cell_type": "markdown",
   "metadata": {},
   "source": [
    "#### Ejercicio 1: \n",
    "*Haga una limpieza de los datos identificando los campos comunes entre los\n",
    "conjuntos de datos. (Adjuntar Rutina SQL o Python)*"
   ]
  },
  {
   "cell_type": "markdown",
   "metadata": {},
   "source": [
    "#### Respuesta a Ejercicio 1:"
   ]
  },
  {
   "cell_type": "markdown",
   "metadata": {},
   "source": [
    "En primer lugar se cargan las bases de datos públicas, en BigQuery de Google, donde se encuentran los datos de StackOverFlow.\n",
    "<img src=\"Datos_Origen.PNG\">"
   ]
  },
  {
   "cell_type": "markdown",
   "metadata": {},
   "source": [
    "Mediante una visualización preliminar se elijen las variables (campos) de las tablas a descargar con los siguientes criterios:\n",
    "* Que contenga datos de los lenguajes de programación\n",
    "* Que sea común a todos los años (solo en 2016 falta el dato de salario)\n",
    "* Que podría servir para responder preguntas.  ejm: cual lenguaje de programación genera más ingresos...\n",
    "* Que pueda usarse en algún modelo predictivo\n",
    "\n",
    "Se obtuvo la siguiente selección de variables a descargar:"
   ]
  },
  {
   "cell_type": "code",
   "execution_count": null,
   "metadata": {},
   "outputs": [],
   "source": []
  },
  {
   "cell_type": "code",
   "execution_count": null,
   "metadata": {},
   "outputs": [],
   "source": []
  },
  {
   "cell_type": "code",
   "execution_count": null,
   "metadata": {},
   "outputs": [],
   "source": []
  },
  {
   "cell_type": "code",
   "execution_count": null,
   "metadata": {},
   "outputs": [],
   "source": []
  },
  {
   "cell_type": "markdown",
   "metadata": {},
   "source": [
    "Dado que las bases de datos no tienen la misma estructura por año. así que se descargarán en el disco local para hacer una depuración con Python.   \n",
    "Para el año 2011 se usó la siguiente consulta con todos los campos y registros, con un tamaño de 854Kb."
   ]
  },
  {
   "cell_type": "code",
   "execution_count": 4,
   "metadata": {},
   "outputs": [],
   "source": [
    "# SELECT * FROM `fh-bigquery.stackoverflow.survey_results_2011`"
   ]
  },
  {
   "cell_type": "markdown",
   "metadata": {},
   "source": [
    "El mismo procedimiento se ejecutó para los siguientes años: 2012, 2013, 2014, 2015, 2016 y 2017, con las siguientes consultas:"
   ]
  },
  {
   "cell_type": "code",
   "execution_count": null,
   "metadata": {},
   "outputs": [],
   "source": [
    "#SELECT * FROM `fh-bigquery.stackoverflow.survey_results_2012`\n",
    "#SELECT * FROM `fh-bigquery.stackoverflow.survey_results_2013`\n",
    "#SELECT * FROM `fh-bigquery.stackoverflow.survey_results_2014`\n",
    "#SELECT * FROM `fh-bigquery.stackoverflow.survey_results_2015`"
   ]
  },
  {
   "cell_type": "markdown",
   "metadata": {},
   "source": [
    "La tabla del año 2016 tiene 56030 filas y BigQuery solo deja exportar 16.000 filas, por lo que se divide la consulta en 4."
   ]
  },
  {
   "cell_type": "code",
   "execution_count": null,
   "metadata": {},
   "outputs": [],
   "source": [
    "#SELECT * FROM `fh-bigquery.stackoverflow.survey_results_2015` LIMIT 15000"
   ]
  }
 ],
 "metadata": {
  "kernelspec": {
   "display_name": "Python 3",
   "language": "python",
   "name": "python3"
  },
  "language_info": {
   "codemirror_mode": {
    "name": "ipython",
    "version": 3
   },
   "file_extension": ".py",
   "mimetype": "text/x-python",
   "name": "python",
   "nbconvert_exporter": "python",
   "pygments_lexer": "ipython3",
   "version": "3.7.3"
  }
 },
 "nbformat": 4,
 "nbformat_minor": 2
}
