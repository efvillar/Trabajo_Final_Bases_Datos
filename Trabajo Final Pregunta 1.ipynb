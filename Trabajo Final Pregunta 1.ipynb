{
 "cells": [
  {
   "cell_type": "markdown",
   "metadata": {},
   "source": [
    "# Trabajo Final Sistemas de Bases de Datos Masivos\n",
    "## Integrantes\n",
    "### - Edwin Fernando Villarraga Ossa\n",
    "### - Jorge Eliecer Montoya Gallo\n",
    "### - Juan David Arango Buitrago"
   ]
  },
  {
   "cell_type": "markdown",
   "metadata": {},
   "source": [
    "#### Ejercicio 1: \n",
    "*Haga una limpieza de los datos identificando los campos comunes entre los\n",
    "conjuntos de datos. (Adjuntar Rutina SQL o Python)*"
   ]
  },
  {
   "cell_type": "markdown",
   "metadata": {},
   "source": [
    "#### Respuesta a Ejercicio 1:"
   ]
  },
  {
   "cell_type": "markdown",
   "metadata": {},
   "source": [
    "En primer lugar se cargan las bases de datos públicas, en BigQuery de Google, donde se encuentran los datos de StackOverFlow.\n",
    "<img src=\"./img/Datos_Origen.PNG\">"
   ]
  },
  {
   "cell_type": "markdown",
   "metadata": {},
   "source": [
    "Mediante una visualización preliminar se elijen las variables (campos) de las tablas a descargar con los siguientes criterios:\n",
    "* Que contenga datos de los lenguajes de programación\n",
    "* Que sea común a todos los años (solo en 2016 falta el dato de salario)\n",
    "* Que podría servir para responder preguntas.  ejm: cual lenguaje de programación genera más ingresos...\n",
    "* Que pueda usarse en algún modelo predictivo\n",
    "\n",
    "Se obtuvo la siguiente selección de variables a descargar:"
   ]
  },
  {
   "cell_type": "markdown",
   "metadata": {},
   "source": [
    "#### Datos de 2011\n",
    "<img src=\"./img/campos_2011.PNG\">"
   ]
  },
  {
   "cell_type": "markdown",
   "metadata": {},
   "source": [
    "#### Datos de 2012\n",
    "<img src=\"./img/campos_2012.PNG\">"
   ]
  },
  {
   "cell_type": "markdown",
   "metadata": {},
   "source": [
    "#### Datos de 2013\n",
    "<img src=\"./img/campos_2013.PNG\">"
   ]
  },
  {
   "cell_type": "markdown",
   "metadata": {},
   "source": [
    "#### Datos de 2014\n",
    "<img src=\"./img/campos_2014.PNG\">"
   ]
  },
  {
   "cell_type": "markdown",
   "metadata": {},
   "source": [
    "#### Datos de 2015\n",
    "<img src=\"./img/campos_2015.PNG\">"
   ]
  },
  {
   "cell_type": "markdown",
   "metadata": {},
   "source": [
    "#### Datos de 2016\n",
    "<img src=\"./img/campos_2016.PNG\">"
   ]
  },
  {
   "cell_type": "markdown",
   "metadata": {},
   "source": [
    "#### Datos de 2017\n",
    "<img src=\"./img/campos_2017.PNG\">"
   ]
  },
  {
   "cell_type": "markdown",
   "metadata": {},
   "source": [
    "Para descargar las bases de datos para cada año y seleccionanando los campos ilustrados anteriormente se utiliza el siguiente código por año\n",
    "\n",
    "##### Año 2011"
   ]
  },
  {
   "cell_type": "markdown",
   "metadata": {},
   "source": [
    "```Sql\n",
    "SELECT string_field_0, string_field_3, string_field_6, string_field_30, string_field_31, \n",
    "string_field_32, string_field_33, string_field_34, string_field_35, string_field_36, \n",
    "string_field_37, string_field_38, string_field_39, string_field_40, string_field_41, string_field_42, string_field_45 \n",
    "FROM `fh-bigquery.stackoverflow.survey_results_2011`\n",
    "```"
   ]
  },
  {
   "cell_type": "markdown",
   "metadata": {},
   "source": [
    "##### Año 2012"
   ]
  },
  {
   "cell_type": "markdown",
   "metadata": {},
   "source": [
    "```Sql\n",
    "SELECT string_field_0, string_field_3, string_field_4, string_field_6, string_field_22, \n",
    "string_field_23, string_field_24, string_field_25, string_field_26, string_field_27, \n",
    "string_field_28, string_field_29, string_field_30, string_field_31, string_field_32, \n",
    "string_field_33, string_field_34, string_field_35, string_field_36  FROM `fh-bigquery.stackoverflow.survey_results_2012`\n",
    "```"
   ]
  },
  {
   "cell_type": "markdown",
   "metadata": {},
   "source": [
    "##### Año 2013"
   ]
  },
  {
   "cell_type": "markdown",
   "metadata": {},
   "source": [
    "SELECT string_field_0, string_field_4, string_field_6, string_field_55, string_field_56, string_field_57, string_field_58,\n",
    "string_field_59, string_field_60, string_field_61, string_field_62, string_field_63, string_field_64, string_field_65, \n",
    "string_field_66, string_field_67, string_field_68, string_field_69, string_field_100  FROM `fh-bigquery.stackoverflow.survey_results_2013`"
   ]
  },
  {
   "cell_type": "markdown",
   "metadata": {},
   "source": [
    "##### Año 2014"
   ]
  },
  {
   "cell_type": "markdown",
   "metadata": {},
   "source": [
    "SELECT string_field_0, string_field_5, string_field_6, string_field_7, string_field_42, string_field_43, string_field_44, \n",
    "string_field_45, string_field_46, string_field_47, string_field_48, string_field_49, string_field_50, string_field_51, \n",
    "string_field_52, string_field_53  FROM `fh-bigquery.stackoverflow.survey_results_2014`"
   ]
  },
  {
   "cell_type": "markdown",
   "metadata": {},
   "source": [
    "##### Año 2015"
   ]
  },
  {
   "cell_type": "markdown",
   "metadata": {},
   "source": [
    "Bigquery tiene una restricción para descargar 16000 filas en csv, por lo que se divide la consulta en 2 partes:  la primera con 15000 registros y la segunda con  el resto.  Para los primeros 15 datos:"
   ]
  },
  {
   "cell_type": "markdown",
   "metadata": {},
   "source": [
    "SELECT string_field_0, string_field_4, string_field_5, string_field_11, string_field_12, string_field_13, string_field_14, string_field_15, string_field_16, string_field_17, string_field_18, string_field_19, string_field_20, string_field_21, string_field_22, string_field_23, string_field_24, string_field_25, string_field_26, string_field_27, string_field_28, string_field_29, string_field_30, string_field_31, string_field_32, string_field_33, string_field_34, string_field_35, string_field_36, string_field_37, string_field_38, string_field_39, string_field_40, string_field_41, string_field_42, string_field_43, string_field_44, string_field_45, string_field_46, string_field_47, string_field_48, string_field_49, string_field_50 FROM `fh-bigquery.stackoverflow.survey_results_2015`  LIMIT 15000\n",
    "\n",
    "\n",
    "Para los demás 11088 datos se usó:\n",
    "\n",
    "SELECT string_field_0, string_field_4, string_field_5, string_field_11, string_field_12, string_field_13, string_field_14, string_field_15, string_field_16, string_field_17, string_field_18, string_field_19, string_field_20, string_field_21, string_field_22, string_field_23, string_field_24, string_field_25, string_field_26, string_field_27, string_field_28, string_field_29, string_field_30, string_field_31, string_field_32, string_field_33, string_field_34, string_field_35, string_field_36, string_field_37, string_field_38, string_field_39, string_field_40, string_field_41, string_field_42, string_field_43, string_field_44, string_field_45, string_field_46, string_field_47, string_field_48, string_field_49, string_field_50 FROM `fh-bigquery.stackoverflow.survey_results_2015`  LIMIT 15000 offset 15000"
   ]
  },
  {
   "cell_type": "markdown",
   "metadata": {},
   "source": [
    "##### Año 2016\n",
    "\n",
    "SELECT ountry, self_identification, experience_range, salary_range, Stech_do FROM fh-bigquery.stackoverflow.survey_results_2016 LIMIT 16000\n",
    "\n",
    "SELECT ountry, self_identification, experience_range, salary_range, Stech_do FROM fh-bigquery.stackoverflow.survey_results_2016 LIMIT 16000 offset 16000\n",
    "\n",
    "SELECT ountry, self_identification, experience_range, salary_range, Stech_do FROM fh-bigquery.stackoverflow.survey_results_2016 LIMIT 16000 offset 32000\n",
    "\n",
    "SELECT ountry, self_identification, experience_range, salary_range, Stech_do FROM fh-bigquery.stackoverflow.survey_results_2016 LIMIT 16000 offset 48000\n"
   ]
  },
  {
   "cell_type": "markdown",
   "metadata": {},
   "source": [
    "##### Año 2017\n",
    "\n",
    "SELECT Country, YearsProgram, DeveloperType, HaveWorkedLanguage, Salary FROM `fh-bigquery.stackoverflow.survey_results_public_2017` LIMIT 16000\n",
    "\n",
    "SELECT Country, YearsProgram, DeveloperType, HaveWorkedLanguage, Salary FROM `fh-bigquery.stackoverflow.survey_results_public_2017` LIMIT 16000 offset 16000\n",
    "\n",
    "SELECT Country, YearsProgram, DeveloperType, HaveWorkedLanguage, Salary FROM `fh-bigquery.stackoverflow.survey_results_public_2017` LIMIT 16000 offset 32000\n",
    "\n",
    "SELECT Country, YearsProgram, DeveloperType, HaveWorkedLanguage, Salary FROM `fh-bigquery.stackoverflow.survey_results_public_2017` LIMIT 16000 offset 48000\n",
    "\n"
   ]
  },
  {
   "cell_type": "markdown",
   "metadata": {},
   "source": [
    "Se descargaron los archivos en formato CVS y se asignaron los siguientes nombres\n",
    "\n",
    "<img src=\"./img/archivos_iniciales_csv.PNG\">"
   ]
  },
  {
   "cell_type": "markdown",
   "metadata": {},
   "source": [
    "# Para el año 2017 se realiza se calcula la frecuencia de uso de lenguajes de programación"
   ]
  },
  {
   "cell_type": "markdown",
   "metadata": {},
   "source": [
    "con el fin de seleccionar los 10 más usados y dar una estructura de datos similar en todos los año"
   ]
  },
  {
   "cell_type": "code",
   "execution_count": 1,
   "metadata": {},
   "outputs": [],
   "source": [
    "import pandas as pd\n",
    "import os"
   ]
  },
  {
   "cell_type": "code",
   "execution_count": 9,
   "metadata": {},
   "outputs": [
    {
     "data": {
      "text/plain": [
       "['data_2011.csv',\n",
       " 'data_2012.csv',\n",
       " 'data_2013.csv',\n",
       " 'data_2014.csv',\n",
       " 'data_2015 0 a 15000.csv',\n",
       " 'data_2015 15001 a 26088 .csv',\n",
       " 'data_2016 0 a 16000.csv',\n",
       " 'data_2016 16001 a 32000.csv',\n",
       " 'data_2016 32001 a 48000.csv',\n",
       " 'data_2016 48001 a 56030.csv',\n",
       " 'data_2017 0 a 16000.csv',\n",
       " 'data_2017 16001 a 32000.csv',\n",
       " 'data_2017 32001 a 48000.csv',\n",
       " 'data_2017 48001 a 51392.csv']"
      ]
     },
     "execution_count": 9,
     "metadata": {},
     "output_type": "execute_result"
    }
   ],
   "source": [
    "archivos = os.listdir(r'.\\data')\n",
    "archivos"
   ]
  },
  {
   "cell_type": "code",
   "execution_count": 14,
   "metadata": {},
   "outputs": [
    {
     "data": {
      "text/plain": [
       "['.\\\\data\\\\data_2017 0 a 16000.csv',\n",
       " '.\\\\data\\\\data_2017 16001 a 32000.csv',\n",
       " '.\\\\data\\\\data_2017 32001 a 48000.csv',\n",
       " '.\\\\data\\\\data_2017 48001 a 51392.csv']"
      ]
     },
     "execution_count": 14,
     "metadata": {},
     "output_type": "execute_result"
    }
   ],
   "source": [
    "archivos_2017 = [os.path.join('.\\\\data\\\\',file) for file in archivos if '2017' in file]\n",
    "archivos_2017"
   ]
  },
  {
   "cell_type": "code",
   "execution_count": 27,
   "metadata": {},
   "outputs": [],
   "source": [
    "df_from_each_file = (pd.read_csv(f) for f in archivos_2017)\n",
    "all_2017   = pd.concat(df_from_each_file, ignore_index=True)"
   ]
  },
  {
   "cell_type": "code",
   "execution_count": 30,
   "metadata": {},
   "outputs": [
    {
     "data": {
      "text/plain": [
       "(51392, 5)"
      ]
     },
     "execution_count": 30,
     "metadata": {},
     "output_type": "execute_result"
    }
   ],
   "source": [
    "all_2017.shape"
   ]
  },
  {
   "cell_type": "code",
   "execution_count": 32,
   "metadata": {},
   "outputs": [
    {
     "data": {
      "text/html": [
       "<div>\n",
       "<style scoped>\n",
       "    .dataframe tbody tr th:only-of-type {\n",
       "        vertical-align: middle;\n",
       "    }\n",
       "\n",
       "    .dataframe tbody tr th {\n",
       "        vertical-align: top;\n",
       "    }\n",
       "\n",
       "    .dataframe thead th {\n",
       "        text-align: right;\n",
       "    }\n",
       "</style>\n",
       "<table border=\"1\" class=\"dataframe\">\n",
       "  <thead>\n",
       "    <tr style=\"text-align: right;\">\n",
       "      <th></th>\n",
       "      <th>Country</th>\n",
       "      <th>YearsProgram</th>\n",
       "      <th>DeveloperType</th>\n",
       "      <th>HaveWorkedLanguage</th>\n",
       "      <th>Salary</th>\n",
       "    </tr>\n",
       "  </thead>\n",
       "  <tbody>\n",
       "    <tr>\n",
       "      <th>51387</th>\n",
       "      <td>United States</td>\n",
       "      <td>20 or more years</td>\n",
       "      <td>Web developer; DevOps specialist</td>\n",
       "      <td>JavaScript; PHP</td>\n",
       "      <td>135000.0</td>\n",
       "    </tr>\n",
       "    <tr>\n",
       "      <th>51388</th>\n",
       "      <td>Algeria</td>\n",
       "      <td>14 to 15 years</td>\n",
       "      <td>Web developer; Mobile developer; Desktop appli...</td>\n",
       "      <td>C; C++; Erlang; JavaScript; SQL</td>\n",
       "      <td>NaN</td>\n",
       "    </tr>\n",
       "    <tr>\n",
       "      <th>51389</th>\n",
       "      <td>Zimbabwe</td>\n",
       "      <td>20 or more years</td>\n",
       "      <td>Other</td>\n",
       "      <td>NaN</td>\n",
       "      <td>NaN</td>\n",
       "    </tr>\n",
       "    <tr>\n",
       "      <th>51390</th>\n",
       "      <td>India</td>\n",
       "      <td>Less than a year</td>\n",
       "      <td>Web developer</td>\n",
       "      <td>PHP</td>\n",
       "      <td>NaN</td>\n",
       "    </tr>\n",
       "    <tr>\n",
       "      <th>51391</th>\n",
       "      <td>Ukraine</td>\n",
       "      <td>4 to 5 years</td>\n",
       "      <td>Mobile developer</td>\n",
       "      <td>C++; C#; Dart; Groovy; VB.NET</td>\n",
       "      <td>100000.0</td>\n",
       "    </tr>\n",
       "  </tbody>\n",
       "</table>\n",
       "</div>"
      ],
      "text/plain": [
       "             Country      YearsProgram  \\\n",
       "51387  United States  20 or more years   \n",
       "51388        Algeria    14 to 15 years   \n",
       "51389       Zimbabwe  20 or more years   \n",
       "51390          India  Less than a year   \n",
       "51391        Ukraine      4 to 5 years   \n",
       "\n",
       "                                           DeveloperType  \\\n",
       "51387                   Web developer; DevOps specialist   \n",
       "51388  Web developer; Mobile developer; Desktop appli...   \n",
       "51389                                              Other   \n",
       "51390                                      Web developer   \n",
       "51391                                   Mobile developer   \n",
       "\n",
       "                    HaveWorkedLanguage    Salary  \n",
       "51387                  JavaScript; PHP  135000.0  \n",
       "51388  C; C++; Erlang; JavaScript; SQL       NaN  \n",
       "51389                              NaN       NaN  \n",
       "51390                              PHP       NaN  \n",
       "51391    C++; C#; Dart; Groovy; VB.NET  100000.0  "
      ]
     },
     "execution_count": 32,
     "metadata": {},
     "output_type": "execute_result"
    }
   ],
   "source": [
    "all_2017.tail()"
   ]
  },
  {
   "cell_type": "code",
   "execution_count": 49,
   "metadata": {},
   "outputs": [],
   "source": [
    "all_2017 = all_2017[all_2017['HaveWorkedLanguage'].notnull()]"
   ]
  },
  {
   "cell_type": "code",
   "execution_count": 50,
   "metadata": {},
   "outputs": [],
   "source": [
    "my_list = all_2017[\"HaveWorkedLanguage\"].tolist()"
   ]
  },
  {
   "cell_type": "code",
   "execution_count": 57,
   "metadata": {},
   "outputs": [
    {
     "data": {
      "text/plain": [
       "'C; C++; C#; CoffeeScript; Clojure; Objective-C; Visual Basic 6'"
      ]
     },
     "execution_count": 57,
     "metadata": {},
     "output_type": "execute_result"
    }
   ],
   "source": [
    "my_list[0]"
   ]
  },
  {
   "cell_type": "code",
   "execution_count": 64,
   "metadata": {},
   "outputs": [],
   "source": [
    "my_list1 = [item.split(';') for item in my_list]"
   ]
  },
  {
   "cell_type": "code",
   "execution_count": 165,
   "metadata": {},
   "outputs": [],
   "source": [
    "#my_list1[0:2]"
   ]
  },
  {
   "cell_type": "code",
   "execution_count": 107,
   "metadata": {},
   "outputs": [],
   "source": [
    "flat_list = [item for sublist in my_list1 for item in sublist]"
   ]
  },
  {
   "cell_type": "code",
   "execution_count": 151,
   "metadata": {},
   "outputs": [
    {
     "data": {
      "text/plain": [
       "['Java', ' Python', ' Rust', ' SQL Server', 'JavaScript']"
      ]
     },
     "execution_count": 151,
     "metadata": {},
     "output_type": "execute_result"
    }
   ],
   "source": [
    "flat_list[0:5]"
   ]
  },
  {
   "cell_type": "code",
   "execution_count": 152,
   "metadata": {},
   "outputs": [],
   "source": [
    "#flat_list[10].strip()"
   ]
  },
  {
   "cell_type": "code",
   "execution_count": 120,
   "metadata": {},
   "outputs": [],
   "source": [
    "for i in range(len(flat_list)):\n",
    "    flat_list[i]=flat_list[i].strip()"
   ]
  },
  {
   "cell_type": "code",
   "execution_count": 121,
   "metadata": {},
   "outputs": [],
   "source": [
    "unique_lang_2017 = set(flat_list)"
   ]
  },
  {
   "cell_type": "code",
   "execution_count": 164,
   "metadata": {},
   "outputs": [],
   "source": [
    "#unique_lang_2017"
   ]
  },
  {
   "cell_type": "code",
   "execution_count": 133,
   "metadata": {},
   "outputs": [],
   "source": [
    "count = 0\n",
    "Freq_2017 = dict()\n",
    "for item in flat_list:\n",
    "    if item not in Freq_2017:\n",
    "        Freq_2017[item] = 1\n",
    "    else:\n",
    "        Freq_2017[item] += 1\n",
    "        "
   ]
  },
  {
   "cell_type": "code",
   "execution_count": 163,
   "metadata": {},
   "outputs": [],
   "source": [
    "#Freq_2017"
   ]
  },
  {
   "cell_type": "markdown",
   "metadata": {},
   "source": [
    "### A continuación se puede ver la frecuencia de uso de cada lenguaje de programación par el año 2017"
   ]
  },
  {
   "cell_type": "code",
   "execution_count": 137,
   "metadata": {},
   "outputs": [
    {
     "data": {
      "text/plain": [
       "[('Hack', 112),\n",
       " ('Julia', 146),\n",
       " ('Dart', 156),\n",
       " ('Common Lisp', 289),\n",
       " ('Smalltalk', 307),\n",
       " ('Erlang', 313),\n",
       " ('Clojure', 403),\n",
       " ('Elixir', 405),\n",
       " ('Rust', 452),\n",
       " ('F#', 455),\n",
       " ('Haskell', 724),\n",
       " ('Lua', 1125),\n",
       " ('Visual Basic 6', 1182),\n",
       " ('Groovy', 1210),\n",
       " ('CoffeeScript', 1296),\n",
       " ('Scala', 1368),\n",
       " ('Perl', 1571),\n",
       " ('Go', 1633),\n",
       " ('VBA', 1743),\n",
       " ('Matlab', 1840),\n",
       " ('R', 1873),\n",
       " ('Assembly', 2068),\n",
       " ('Objective-C', 2479),\n",
       " ('VB.NET', 2533),\n",
       " ('Swift', 2672),\n",
       " ('TypeScript', 3719),\n",
       " ('Ruby', 3746),\n",
       " ('C', 7880),\n",
       " ('C++', 9099),\n",
       " ('PHP', 11574),\n",
       " ('Python', 13239),\n",
       " ('C#', 13575),\n",
       " ('Java', 16550),\n",
       " ('SQL', 20633),\n",
       " ('JavaScript', 25429)]"
      ]
     },
     "execution_count": 137,
     "metadata": {},
     "output_type": "execute_result"
    }
   ],
   "source": [
    "Order_Freq_2017 = sorted(Freq_2017.items(), key=lambda x: x[1])\n",
    "Order_Freq_2017"
   ]
  },
  {
   "cell_type": "markdown",
   "metadata": {},
   "source": [
    "# Para el año 2016 se realiza se calcula la frecuencia de uso de lenguajes de programación"
   ]
  },
  {
   "cell_type": "code",
   "execution_count": 138,
   "metadata": {},
   "outputs": [],
   "source": [
    "archivos_2016 = [os.path.join('.\\\\data\\\\',file) for file in archivos if '2016' in file]"
   ]
  },
  {
   "cell_type": "code",
   "execution_count": 162,
   "metadata": {},
   "outputs": [],
   "source": [
    "df_from_each_file = (pd.read_csv(f) for f in archivos_2016)\n",
    "all_2016   = pd.concat(df_from_each_file, ignore_index=True)\n",
    "#all_2016.head()"
   ]
  },
  {
   "cell_type": "code",
   "execution_count": 146,
   "metadata": {},
   "outputs": [],
   "source": [
    "all_2016 = all_2016[all_2016['tech_do'].notnull()]"
   ]
  },
  {
   "cell_type": "code",
   "execution_count": 147,
   "metadata": {},
   "outputs": [],
   "source": [
    "my_list = all_2016['tech_do'].tolist()"
   ]
  },
  {
   "cell_type": "code",
   "execution_count": 148,
   "metadata": {},
   "outputs": [
    {
     "data": {
      "text/plain": [
       "'Java; Python; Rust; SQL Server'"
      ]
     },
     "execution_count": 148,
     "metadata": {},
     "output_type": "execute_result"
    }
   ],
   "source": [
    "my_list[0]"
   ]
  },
  {
   "cell_type": "code",
   "execution_count": 149,
   "metadata": {},
   "outputs": [],
   "source": [
    "my_list1 = [item.split(';') for item in my_list]"
   ]
  },
  {
   "cell_type": "code",
   "execution_count": 150,
   "metadata": {},
   "outputs": [],
   "source": [
    "flat_list = [item for sublist in my_list1 for item in sublist]"
   ]
  },
  {
   "cell_type": "code",
   "execution_count": 153,
   "metadata": {},
   "outputs": [],
   "source": [
    "for i in range(len(flat_list)):\n",
    "    flat_list[i]=flat_list[i].strip()"
   ]
  },
  {
   "cell_type": "code",
   "execution_count": 154,
   "metadata": {},
   "outputs": [],
   "source": [
    "unique_lang_2016 = set(flat_list)"
   ]
  },
  {
   "cell_type": "code",
   "execution_count": 161,
   "metadata": {},
   "outputs": [],
   "source": [
    "#unique_lang_2016"
   ]
  },
  {
   "cell_type": "code",
   "execution_count": 156,
   "metadata": {},
   "outputs": [],
   "source": [
    "count = 0\n",
    "Freq_2016 = dict()\n",
    "for item in flat_list:\n",
    "    if item not in Freq_2016:\n",
    "        Freq_2016[item] = 1\n",
    "    else:\n",
    "        Freq_2016[item] += 1\n",
    "        "
   ]
  },
  {
   "cell_type": "code",
   "execution_count": 160,
   "metadata": {},
   "outputs": [],
   "source": [
    "#Freq_2016"
   ]
  },
  {
   "cell_type": "code",
   "execution_count": 159,
   "metadata": {},
   "outputs": [
    {
     "data": {
      "text/plain": [
       "[('Dart', 214),\n",
       " ('Rust', 421),\n",
       " ('F#', 495),\n",
       " ('Clojure', 541),\n",
       " ('Salesforce', 707),\n",
       " ('Cassandra', 711),\n",
       " ('Haskell', 720),\n",
       " ('Spark', 753),\n",
       " ('SharePoint', 866),\n",
       " ('Hadoop', 1048),\n",
       " ('Windows Phone', 1115),\n",
       " ('Matlab', 1457),\n",
       " ('Go', 1546),\n",
       " ('R', 1593),\n",
       " ('Scala', 1633),\n",
       " ('CoffeeScript', 1643),\n",
       " ('Cordova', 1669),\n",
       " ('Perl', 1725),\n",
       " ('ReactJS', 2546),\n",
       " ('Swift', 2649),\n",
       " ('Redis', 2958),\n",
       " ('Objective-C', 3192),\n",
       " ('Visual Basic', 3286),\n",
       " ('Arduino / Raspberry Pi', 3555),\n",
       " ('WordPress', 4277),\n",
       " ('Ruby', 4345),\n",
       " ('iOS', 4429),\n",
       " ('LAMP', 4755),\n",
       " ('Cloud (AWS, GAE, Azure, etc.)', 4771),\n",
       " ('MongoDB', 4773),\n",
       " ('C', 7247),\n",
       " ('Android', 8250),\n",
       " ('Node.js', 8413),\n",
       " ('AngularJS', 8975),\n",
       " ('C++', 9166),\n",
       " ('SQL Server', 9674),\n",
       " ('Python', 11908),\n",
       " ('PHP', 12417),\n",
       " ('C#', 15628),\n",
       " ('Java', 17648),\n",
       " ('SQL', 22212),\n",
       " ('JavaScript', 27508)]"
      ]
     },
     "execution_count": 159,
     "metadata": {},
     "output_type": "execute_result"
    }
   ],
   "source": [
    "Order_Freq_2016 = sorted(Freq_2016.items(), key=lambda x: x[1])\n",
    "Order_Freq_2016"
   ]
  },
  {
   "cell_type": "markdown",
   "metadata": {},
   "source": [
    "# TRANSFORMACION DE LOS DATOS EN BIGQUERY\n",
    "\n",
    "La carpeta Query_Encuesta tiene las consultas hechas con SQL para la transformación inicial de datos en BIGQUERY\n",
    "\n",
    "\n",
    "<img src=\"./img/consultas_bigquery_iniciales.PNG\">\n",
    "\n",
    "los primeros 7 archivos corresponden a cada consulta por año para dejar los siguientes campos:\n",
    "\n",
    "* Year\n",
    "* Id_Country\n",
    "* Id_Experience\n",
    "* Id_Ocupation\n",
    "* Id_Salary\n",
    "* Id_Age\n",
    "* Id_Gender\n",
    "\n",
    "\n",
    "\n",
    " y las columnas con los lenguajes de programación más usados por año"
   ]
  },
  {
   "cell_type": "markdown",
   "metadata": {},
   "source": [
    "El archivo Encuestas.sql tiene el script de sql usado para unir las tablas en Bigquery. Después de la depuración de datos hecha en el disco local"
   ]
  },
  {
   "cell_type": "code",
   "execution_count": null,
   "metadata": {},
   "outputs": [],
   "source": [
    "\"\"\" SQL\n",
    "\n",
    "CREATE TABLE `basededatosmasivos.Base_de_Datos.Encuestas`\n",
    "as\n",
    "select *\n",
    "from `basededatosmasivos.Base_de_Datos.Encuesta_2011`\n",
    "union all\n",
    "select *\n",
    "from `basededatosmasivos.Base_de_Datos.Encuesta_2012`\n",
    "union all\n",
    "select *\n",
    "from `basededatosmasivos.Base_de_Datos.Encuesta_2013`\n",
    "union all\n",
    "select *\n",
    "from `basededatosmasivos.Base_de_Datos.Encuesta_2014`\n",
    "union all\n",
    "select *\n",
    "from `basededatosmasivos.Base_de_Datos.Encuesta_2015`\n",
    "union all\n",
    "select *\n",
    "from `basededatosmasivos.Base_de_Datos.Encuesta_2016`\n",
    "union all\n",
    "select *\n",
    "from `basededatosmasivos.Base_de_Datos.Encuesta_2017`\n",
    "\n",
    "\"\"\""
   ]
  },
  {
   "cell_type": "markdown",
   "metadata": {},
   "source": [
    "# DEPURACIÓN DE LOS DATOS\n",
    "\n",
    "Para depurar las tablas y los datos, se utilizó el Excel y se crearon tablas auxiliares de tal manera que se conservaron los datos originales y se usaron claves para asociar las tablas con las columnas depuradas.\n",
    "\n",
    "A continuación el código de Python usado para hacer la unión de los datos en el disco local"
   ]
  },
  {
   "cell_type": "code",
   "execution_count": 8,
   "metadata": {},
   "outputs": [],
   "source": [
    "archivos = os.listdir(r'.\\data_depurada')"
   ]
  },
  {
   "cell_type": "code",
   "execution_count": 9,
   "metadata": {},
   "outputs": [
    {
     "data": {
      "text/plain": [
       "['data_2011.csv',\n",
       " 'data_2012.csv',\n",
       " 'data_2013.csv',\n",
       " 'data_2014.csv',\n",
       " 'data_2015 0 a 15000.csv',\n",
       " 'data_2015 15001 a 26088.csv',\n",
       " 'data_2016 0 a 16000.csv',\n",
       " 'data_2016 16001 a 32000.csv',\n",
       " 'data_2016 32001 a 48000.csv',\n",
       " 'data_2016 48001 a 56030.csv',\n",
       " 'data_2017 0 a 16000.csv',\n",
       " 'data_2017 16001 a 32000.csv',\n",
       " 'data_2017 32001 a 48000.csv',\n",
       " 'data_2017 48001 a 51392.csv']"
      ]
     },
     "execution_count": 9,
     "metadata": {},
     "output_type": "execute_result"
    }
   ],
   "source": [
    "archivos"
   ]
  },
  {
   "cell_type": "code",
   "execution_count": 10,
   "metadata": {},
   "outputs": [
    {
     "data": {
      "text/plain": [
       "['.\\\\data_depurada\\\\data_2011.csv',\n",
       " '.\\\\data_depurada\\\\data_2012.csv',\n",
       " '.\\\\data_depurada\\\\data_2013.csv',\n",
       " '.\\\\data_depurada\\\\data_2014.csv',\n",
       " '.\\\\data_depurada\\\\data_2015 0 a 15000.csv',\n",
       " '.\\\\data_depurada\\\\data_2015 15001 a 26088.csv',\n",
       " '.\\\\data_depurada\\\\data_2016 0 a 16000.csv',\n",
       " '.\\\\data_depurada\\\\data_2016 16001 a 32000.csv',\n",
       " '.\\\\data_depurada\\\\data_2016 32001 a 48000.csv',\n",
       " '.\\\\data_depurada\\\\data_2016 48001 a 56030.csv',\n",
       " '.\\\\data_depurada\\\\data_2017 0 a 16000.csv',\n",
       " '.\\\\data_depurada\\\\data_2017 16001 a 32000.csv',\n",
       " '.\\\\data_depurada\\\\data_2017 32001 a 48000.csv',\n",
       " '.\\\\data_depurada\\\\data_2017 48001 a 51392.csv']"
      ]
     },
     "execution_count": 10,
     "metadata": {},
     "output_type": "execute_result"
    }
   ],
   "source": [
    "archivosAll = [os.path.join('.\\\\data_depurada\\\\',file) for file in archivos if 'csv' in file]\n",
    "archivosAll"
   ]
  },
  {
   "cell_type": "code",
   "execution_count": 13,
   "metadata": {},
   "outputs": [],
   "source": [
    "df_total = (pd.read_csv(f) for f in archivosAll)\n",
    "all   = pd.concat(df_total, ignore_index=True, sort=False)"
   ]
  },
  {
   "cell_type": "code",
   "execution_count": 14,
   "metadata": {},
   "outputs": [
    {
     "data": {
      "text/html": [
       "<div>\n",
       "<style scoped>\n",
       "    .dataframe tbody tr th:only-of-type {\n",
       "        vertical-align: middle;\n",
       "    }\n",
       "\n",
       "    .dataframe tbody tr th {\n",
       "        vertical-align: top;\n",
       "    }\n",
       "\n",
       "    .dataframe thead th {\n",
       "        text-align: right;\n",
       "    }\n",
       "</style>\n",
       "<table border=\"1\" class=\"dataframe\">\n",
       "  <thead>\n",
       "    <tr style=\"text-align: right;\">\n",
       "      <th></th>\n",
       "      <th>Year</th>\n",
       "      <th>Id_Country</th>\n",
       "      <th>Id_Experience</th>\n",
       "      <th>Id_Ocupation</th>\n",
       "      <th>Id_Salary</th>\n",
       "      <th>Id_Age</th>\n",
       "      <th>Id_Gender</th>\n",
       "      <th>AngularJS</th>\n",
       "      <th>C</th>\n",
       "      <th>Cplusplus</th>\n",
       "      <th>...</th>\n",
       "      <th>Nodejs</th>\n",
       "      <th>ObjectiveC</th>\n",
       "      <th>Perl</th>\n",
       "      <th>PHP</th>\n",
       "      <th>Python</th>\n",
       "      <th>Ruby</th>\n",
       "      <th>SQL</th>\n",
       "      <th>SQL_Server</th>\n",
       "      <th>TypeScript</th>\n",
       "      <th>CPlusPlus</th>\n",
       "    </tr>\n",
       "  </thead>\n",
       "  <tbody>\n",
       "    <tr>\n",
       "      <th>0</th>\n",
       "      <td>2011</td>\n",
       "      <td>Germany</td>\n",
       "      <td>NaN</td>\n",
       "      <td>NaN</td>\n",
       "      <td>NaN</td>\n",
       "      <td>NaN</td>\n",
       "      <td>NaN</td>\n",
       "      <td>NaN</td>\n",
       "      <td>NaN</td>\n",
       "      <td>NaN</td>\n",
       "      <td>...</td>\n",
       "      <td>NaN</td>\n",
       "      <td>NaN</td>\n",
       "      <td>NaN</td>\n",
       "      <td>NaN</td>\n",
       "      <td>NaN</td>\n",
       "      <td>NaN</td>\n",
       "      <td>NaN</td>\n",
       "      <td>NaN</td>\n",
       "      <td>NaN</td>\n",
       "      <td>NaN</td>\n",
       "    </tr>\n",
       "    <tr>\n",
       "      <th>1</th>\n",
       "      <td>2011</td>\n",
       "      <td>United States of America</td>\n",
       "      <td>11</td>\n",
       "      <td>NaN</td>\n",
       "      <td>NaN</td>\n",
       "      <td>25-29</td>\n",
       "      <td>NaN</td>\n",
       "      <td>NaN</td>\n",
       "      <td>NaN</td>\n",
       "      <td>NaN</td>\n",
       "      <td>...</td>\n",
       "      <td>NaN</td>\n",
       "      <td>NaN</td>\n",
       "      <td>NaN</td>\n",
       "      <td>NaN</td>\n",
       "      <td>NaN</td>\n",
       "      <td>NaN</td>\n",
       "      <td>NaN</td>\n",
       "      <td>NaN</td>\n",
       "      <td>NaN</td>\n",
       "      <td>NaN</td>\n",
       "    </tr>\n",
       "    <tr>\n",
       "      <th>2</th>\n",
       "      <td>2011</td>\n",
       "      <td>Other Europe</td>\n",
       "      <td>41310</td>\n",
       "      <td>NaN</td>\n",
       "      <td>NaN</td>\n",
       "      <td>20-24</td>\n",
       "      <td>NaN</td>\n",
       "      <td>NaN</td>\n",
       "      <td>NaN</td>\n",
       "      <td>NaN</td>\n",
       "      <td>...</td>\n",
       "      <td>NaN</td>\n",
       "      <td>NaN</td>\n",
       "      <td>NaN</td>\n",
       "      <td>NaN</td>\n",
       "      <td>NaN</td>\n",
       "      <td>NaN</td>\n",
       "      <td>NaN</td>\n",
       "      <td>NaN</td>\n",
       "      <td>NaN</td>\n",
       "      <td>NaN</td>\n",
       "    </tr>\n",
       "    <tr>\n",
       "      <th>3</th>\n",
       "      <td>2011</td>\n",
       "      <td>Australia</td>\n",
       "      <td>&lt;2</td>\n",
       "      <td>NaN</td>\n",
       "      <td>NaN</td>\n",
       "      <td>25-29</td>\n",
       "      <td>NaN</td>\n",
       "      <td>NaN</td>\n",
       "      <td>NaN</td>\n",
       "      <td>NaN</td>\n",
       "      <td>...</td>\n",
       "      <td>NaN</td>\n",
       "      <td>NaN</td>\n",
       "      <td>NaN</td>\n",
       "      <td>NaN</td>\n",
       "      <td>NaN</td>\n",
       "      <td>NaN</td>\n",
       "      <td>NaN</td>\n",
       "      <td>NaN</td>\n",
       "      <td>NaN</td>\n",
       "      <td>NaN</td>\n",
       "    </tr>\n",
       "    <tr>\n",
       "      <th>4</th>\n",
       "      <td>2011</td>\n",
       "      <td>United Kingdom</td>\n",
       "      <td>41310</td>\n",
       "      <td>NaN</td>\n",
       "      <td>NaN</td>\n",
       "      <td>20-24</td>\n",
       "      <td>NaN</td>\n",
       "      <td>NaN</td>\n",
       "      <td>NaN</td>\n",
       "      <td>NaN</td>\n",
       "      <td>...</td>\n",
       "      <td>NaN</td>\n",
       "      <td>NaN</td>\n",
       "      <td>NaN</td>\n",
       "      <td>NaN</td>\n",
       "      <td>NaN</td>\n",
       "      <td>NaN</td>\n",
       "      <td>NaN</td>\n",
       "      <td>NaN</td>\n",
       "      <td>NaN</td>\n",
       "      <td>NaN</td>\n",
       "    </tr>\n",
       "  </tbody>\n",
       "</table>\n",
       "<p>5 rows × 26 columns</p>\n",
       "</div>"
      ],
      "text/plain": [
       "   Year                Id_Country Id_Experience Id_Ocupation Id_Salary Id_Age  \\\n",
       "0  2011                   Germany           NaN          NaN       NaN    NaN   \n",
       "1  2011  United States of America            11          NaN       NaN  25-29   \n",
       "2  2011              Other Europe         41310          NaN       NaN  20-24   \n",
       "3  2011                 Australia            <2          NaN       NaN  25-29   \n",
       "4  2011            United Kingdom         41310          NaN       NaN  20-24   \n",
       "\n",
       "  Id_Gender AngularJS    C Cplusplus  ... Nodejs ObjectiveC Perl  PHP Python  \\\n",
       "0       NaN       NaN  NaN       NaN  ...    NaN        NaN  NaN  NaN    NaN   \n",
       "1       NaN       NaN  NaN       NaN  ...    NaN        NaN  NaN  NaN    NaN   \n",
       "2       NaN       NaN  NaN       NaN  ...    NaN        NaN  NaN  NaN    NaN   \n",
       "3       NaN       NaN  NaN       NaN  ...    NaN        NaN  NaN  NaN    NaN   \n",
       "4       NaN       NaN  NaN       NaN  ...    NaN        NaN  NaN  NaN    NaN   \n",
       "\n",
       "  Ruby  SQL SQL_Server TypeScript CPlusPlus  \n",
       "0  NaN  NaN        NaN        NaN       NaN  \n",
       "1  NaN  NaN        NaN        NaN       NaN  \n",
       "2  NaN  NaN        NaN        NaN       NaN  \n",
       "3  NaN  NaN        NaN        NaN       NaN  \n",
       "4  NaN  NaN        NaN        NaN       NaN  \n",
       "\n",
       "[5 rows x 26 columns]"
      ]
     },
     "execution_count": 14,
     "metadata": {},
     "output_type": "execute_result"
    }
   ],
   "source": [
    "all.head()"
   ]
  },
  {
   "cell_type": "code",
   "execution_count": 16,
   "metadata": {},
   "outputs": [
    {
     "data": {
      "text/plain": [
       "(159951, 26)"
      ]
     },
     "execution_count": 16,
     "metadata": {},
     "output_type": "execute_result"
    }
   ],
   "source": [
    "all.shape"
   ]
  },
  {
   "cell_type": "code",
   "execution_count": 17,
   "metadata": {},
   "outputs": [],
   "source": [
    "all.to_csv(r'.\\data_depurada\\Encuestas.csv')"
   ]
  },
  {
   "cell_type": "markdown",
   "metadata": {},
   "source": [
    "\n",
    "\n",
    "\n",
    "Se crearon las siguientes tablas y se subieron a Bigquery:\n",
    "    \n"
   ]
  },
  {
   "cell_type": "code",
   "execution_count": null,
   "metadata": {},
   "outputs": [],
   "source": []
  }
 ],
 "metadata": {
  "kernelspec": {
   "display_name": "Python 3",
   "language": "python",
   "name": "python3"
  },
  "language_info": {
   "codemirror_mode": {
    "name": "ipython",
    "version": 3
   },
   "file_extension": ".py",
   "mimetype": "text/x-python",
   "name": "python",
   "nbconvert_exporter": "python",
   "pygments_lexer": "ipython3",
   "version": "3.7.3"
  }
 },
 "nbformat": 4,
 "nbformat_minor": 2
}
