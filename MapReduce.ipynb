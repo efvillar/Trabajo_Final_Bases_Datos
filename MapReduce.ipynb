{
 "cells": [
  {
   "cell_type": "markdown",
   "metadata": {},
   "source": [
    "# MapReduce \n",
    "\n",
    "```\n",
    "C:\\Program Files\\MongoDB\\Server\\4.0\\bin>mongoimport.exe --db taller_MDB --collection bodega --file C:\\Users\\asus\\Downloads\\Total_DB.json --jsonArray\n",
    "```"
   ]
  },
  {
   "cell_type": "markdown",
   "metadata": {},
   "source": [
    "```JavaScript\n",
    "var m = function() {\n",
    "    var lang= [\"AngularJS\",\"C\",\"CPlusPlus\",\"CSharp\",\"CSS\",\"HTML5\",\"Java\",\"JavaScript\",\"jQuery\",\"Nodejs\",\"ObjectiveC\",\"Perl\",\"PHP\",\"Python\",\"Ruby\",\"SQL\",\"SQL_Server\",\"TypeScript\"];\n",
    "    for(var i = 0; i < lang.length; i++){\n",
    "        if(this[lang[i]] !== null){\n",
    "            emit(this[lang[i]], 1);\n",
    "            }\n",
    "        }\n",
    "  };\n",
    "  var r = function(C,i) {\n",
    "      return Array.sum(i);\n",
    "  };\n",
    "  db.bodega.mapReduce(m, r, {out: {inline:true}})\n",
    "```"
   ]
  },
  {
   "cell_type": "markdown",
   "metadata": {},
   "source": [
    "# MapReduce uno a uno\n",
    "\n",
    "```JavaScript\n",
    "var m = function() {\n",
    "  var lang= [\"C\"];\n",
    "  for(var i = 0; i < lang.length; i++){\n",
    "      if(this[lang[i]] == this[lang[i]]){\n",
    "          emit(this[lang[i]], 1);\n",
    "          }\n",
    "      }\n",
    "};\n",
    "var r = function(C,i) {\n",
    "    return Array.sum(i);\n",
    "};\n",
    "db.bodega.mapReduce(m, r, {out: {inline:true}})\n",
    "```"
   ]
  }
 ],
 "metadata": {
  "kernelspec": {
   "display_name": "Python 3",
   "language": "python",
   "name": "python3"
  },
  "language_info": {
   "codemirror_mode": {
    "name": "ipython",
    "version": 3
   },
   "file_extension": ".py",
   "mimetype": "text/x-python",
   "name": "python",
   "nbconvert_exporter": "python",
   "pygments_lexer": "ipython3",
   "version": "3.7.3"
  }
 },
 "nbformat": 4,
 "nbformat_minor": 2
}
