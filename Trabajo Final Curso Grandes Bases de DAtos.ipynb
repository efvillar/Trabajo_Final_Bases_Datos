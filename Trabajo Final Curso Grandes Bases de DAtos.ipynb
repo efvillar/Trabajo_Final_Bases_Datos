{
 "cells": [
  {
   "cell_type": "markdown",
   "metadata": {},
   "source": [
    "# Trabajo Final Sistemas de Bases de Datos Masivos\n",
    "## Integrantes\n",
    "### - Edwin Fernando Villarraga Ossa\n",
    "### - Jorge Eliecer Montoya Gallo\n",
    "### - Juan David Arango Buitrago"
   ]
  },
  {
   "cell_type": "markdown",
   "metadata": {},
   "source": [
    "#### Ejercicio 1: \n",
    "*Haga una limpieza de los datos identificando los campos comunes entre los\n",
    "conjuntos de datos. (Adjuntar Rutina SQL o Python)*"
   ]
  },
  {
   "cell_type": "markdown",
   "metadata": {},
   "source": [
    "#### Respuesta a Ejercicio 1:"
   ]
  },
  {
   "cell_type": "markdown",
   "metadata": {},
   "source": [
    "En primer lugar se cargan las bases de datos públicas, en BigQuery de Google, donde se encuentran los datos de StackOverFlow.\n",
    "<img src=\"./img/Datos_Origen.PNG\">"
   ]
  },
  {
   "cell_type": "markdown",
   "metadata": {},
   "source": [
    "Mediante una visualización preliminar se elijen las variables (campos) de las tablas a descargar con los siguientes criterios:\n",
    "* Que contenga datos de los lenguajes de programación\n",
    "* Que sea común a todos los años (solo en 2016 falta el dato de salario)\n",
    "* Que podría servir para responder preguntas.  ejm: cual lenguaje de programación genera más ingresos...\n",
    "* Que pueda usarse en algún modelo predictivo\n",
    "\n",
    "Se obtuvo la siguiente selección de variables a descargar:"
   ]
  },
  {
   "cell_type": "markdown",
   "metadata": {},
   "source": [
    "#### Datos de 2011\n",
    "<img src=\"./img/campos_2011.PNG\">"
   ]
  },
  {
   "cell_type": "markdown",
   "metadata": {},
   "source": [
    "#### Datos de 2012\n",
    "<img src=\"./img/campos_2012.PNG\">"
   ]
  },
  {
   "cell_type": "markdown",
   "metadata": {},
   "source": [
    "#### Datos de 2013\n",
    "<img src=\"./img/campos_2013.PNG\">"
   ]
  },
  {
   "cell_type": "markdown",
   "metadata": {},
   "source": [
    "#### Datos de 2014\n",
    "<img src=\"./img/campos_2014.PNG\">"
   ]
  },
  {
   "cell_type": "markdown",
   "metadata": {},
   "source": [
    "#### Datos de 2015\n",
    "<img src=\"./img/campos_2015.PNG\">"
   ]
  },
  {
   "cell_type": "markdown",
   "metadata": {},
   "source": [
    "#### Datos de 2016\n",
    "<img src=\"./img/campos_2016.PNG\">"
   ]
  },
  {
   "cell_type": "markdown",
   "metadata": {},
   "source": [
    "#### Datos de 2017\n",
    "<img src=\"./img/campos_2017.PNG\">"
   ]
  },
  {
   "cell_type": "markdown",
   "metadata": {},
   "source": [
    "Para descargar las bases de datos para cada año y seleccionanando los campos ilustrados anteriormente se utiliza el siguiente código por año\n",
    "\n",
    "##### Año 2011"
   ]
  },
  {
   "cell_type": "code",
   "execution_count": null,
   "metadata": {},
   "outputs": [],
   "source": [
    "# SELECT string_field_0, string_field_3, string_field_6, string_field_30, string_field_31, \n",
    "#string_field_32, string_field_33, string_field_34, string_field_35, string_field_36, \n",
    "#string_field_37, string_field_38, string_field_39, string_field_40, string_field_41, string_field_42, string_field_45 \n",
    "#FROM `fh-bigquery.stackoverflow.survey_results_2011`"
   ]
  },
  {
   "cell_type": "markdown",
   "metadata": {},
   "source": [
    "##### Año 2012"
   ]
  },
  {
   "cell_type": "code",
   "execution_count": null,
   "metadata": {},
   "outputs": [],
   "source": [
    "#SELECT string_field_0, string_field_3, string_field_4, string_field_6, string_field_22, \n",
    "#string_field_23, string_field_24, string_field_25, string_field_26, string_field_27, \n",
    "#string_field_28, string_field_29, string_field_30, string_field_31, string_field_32, \n",
    "#string_field_33, string_field_34, string_field_35, string_field_36  FROM `fh-bigquery.stackoverflow.survey_results_2012`"
   ]
  },
  {
   "cell_type": "markdown",
   "metadata": {},
   "source": [
    "##### Año 2013"
   ]
  },
  {
   "cell_type": "code",
   "execution_count": null,
   "metadata": {},
   "outputs": [],
   "source": [
    "#SELECT string_field_0, string_field_4, string_field_6, string_field_55, string_field_56, string_field_57, string_field_58,\n",
    "#string_field_59, string_field_60, string_field_61, string_field_62, string_field_63, string_field_64, string_field_65, \n",
    "#string_field_66, string_field_67, string_field_68, string_field_69, string_field_100  FROM `fh-bigquery.stackoverflow.survey_results_2013`"
   ]
  },
  {
   "cell_type": "markdown",
   "metadata": {},
   "source": [
    "##### Año 2014"
   ]
  },
  {
   "cell_type": "code",
   "execution_count": null,
   "metadata": {},
   "outputs": [],
   "source": [
    "#SELECT string_field_0, string_field_5, string_field_6, string_field_7, string_field_42, string_field_43, string_field_44, \n",
    "#string_field_45, string_field_46, string_field_47, string_field_48, string_field_49, string_field_50, string_field_51, \n",
    "#string_field_52, string_field_53  FROM `fh-bigquery.stackoverflow.survey_results_2014`"
   ]
  },
  {
   "cell_type": "markdown",
   "metadata": {},
   "source": [
    "##### Año 2015"
   ]
  },
  {
   "cell_type": "markdown",
   "metadata": {},
   "source": [
    "Bigquery tiene una restricción para descargar 16000 filas en csv, por lo que se divide la consulta en 2 partes:  la primera con 15000 registros y la segunda con  el resto"
   ]
  },
  {
   "cell_type": "markdown",
   "metadata": {},
   "source": [
    "SELECT string_field_0, string_field_4, string_field_5, string_field_11, string_field_12, string_field_13, string_field_14, string_field_15, string_field_16, string_field_17, string_field_18, string_field_19, string_field_20, string_field_21, string_field_22, string_field_23, string_field_24, string_field_25, string_field_26, string_field_27, string_field_28, string_field_29, string_field_30, string_field_31, string_field_32, string_field_33, string_field_34, string_field_35, string_field_36, string_field_37, string_field_38, string_field_39, string_field_40, string_field_41, string_field_42, string_field_43, string_field_44, string_field_45, string_field_46, string_field_47, string_field_48, string_field_49, string_field_50 FROM `fh-bigquery.stackoverflow.survey_results_2015`  LIMIT 15000"
   ]
  },
  {
   "cell_type": "markdown",
   "metadata": {},
   "source": [
    "##### Año 2016"
   ]
  },
  {
   "cell_type": "code",
   "execution_count": null,
   "metadata": {},
   "outputs": [],
   "source": []
  },
  {
   "cell_type": "markdown",
   "metadata": {},
   "source": [
    "##### Año 2017"
   ]
  },
  {
   "cell_type": "markdown",
   "metadata": {},
   "source": [
    "#### Datos de 2014\n",
    "<img src=\"./img/campos_2014.PNG\">"
   ]
  },
  {
   "cell_type": "markdown",
   "metadata": {},
   "source": [
    "Dado que las bases de datos no tienen la misma estructura por año. así que se descargarán en el disco local para hacer una depuración con Python.   \n",
    "Para el año 2011 se usó la siguiente consulta con todos los campos y registros, con un tamaño de 854Kb."
   ]
  },
  {
   "cell_type": "code",
   "execution_count": 4,
   "metadata": {},
   "outputs": [],
   "source": [
    "# SELECT * FROM `fh-bigquery.stackoverflow.survey_results_2011`"
   ]
  },
  {
   "cell_type": "markdown",
   "metadata": {},
   "source": [
    "El mismo procedimiento se ejecutó para los siguientes años: 2012, 2013, 2014, 2015, 2016 y 2017, con las siguientes consultas:"
   ]
  },
  {
   "cell_type": "code",
   "execution_count": null,
   "metadata": {},
   "outputs": [],
   "source": [
    "#SELECT * FROM `fh-bigquery.stackoverflow.survey_results_2012`\n",
    "#SELECT * FROM `fh-bigquery.stackoverflow.survey_results_2013`\n",
    "#SELECT * FROM `fh-bigquery.stackoverflow.survey_results_2014`\n",
    "#SELECT * FROM `fh-bigquery.stackoverflow.survey_results_2015`"
   ]
  },
  {
   "cell_type": "markdown",
   "metadata": {},
   "source": [
    "La tabla del año 2016 tiene 56030 filas y BigQuery solo deja exportar 16.000 filas, por lo que se divide la consulta en 4."
   ]
  },
  {
   "cell_type": "code",
   "execution_count": null,
   "metadata": {},
   "outputs": [],
   "source": [
    "#SELECT * FROM `fh-bigquery.stackoverflow.survey_results_2015` LIMIT 15000"
   ]
  }
 ],
 "metadata": {
  "kernelspec": {
   "display_name": "Python 3",
   "language": "python",
   "name": "python3"
  },
  "language_info": {
   "codemirror_mode": {
    "name": "ipython",
    "version": 3
   },
   "file_extension": ".py",
   "mimetype": "text/x-python",
   "name": "python",
   "nbconvert_exporter": "python",
   "pygments_lexer": "ipython3",
   "version": "3.7.3"
  }
 },
 "nbformat": 4,
 "nbformat_minor": 2
}
